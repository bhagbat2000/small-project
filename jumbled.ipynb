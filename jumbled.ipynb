{
 "cells": [
  {
   "cell_type": "code",
   "execution_count": 2,
   "metadata": {},
   "outputs": [
    {
     "name": "stdout",
     "output_type": "stream",
     "text": [
      "Enter your name player 1rocky\n",
      "p2name inputrock\n",
      "braoiwn\n",
      "rocky Your turn. \n",
      "What i  on my mind ?louda\n",
      "your guess was wrong rainbow\n",
      "Press 1 to continue and 0 two quit0\n",
      "rocky your scor is 0\n",
      "rock your score is ,p2\n",
      "thank you\n"
     ]
    }
   ],
   "source": [
    "import random\n",
    "def choose():\n",
    "    words=['rainbow','computer','mathematics','programing','player','condition','reverse','water','board']\n",
    "    pick=random.choice(words)\n",
    "    return pick\n",
    "\n",
    "def jumble(word):\n",
    "    jumbled=\"\".join(random.sample(word,len(word)))\n",
    "    return jumbled\n",
    "\n",
    "def thank(p1name,p2name,pp1,pp2):\n",
    "    print(p1name,'your scor is',pp1)\n",
    "    print(p2name,'your score is ,p2')\n",
    "    print('thank you')\n",
    "\n",
    "\n",
    "\n",
    "def play():\n",
    "    p1name=input(\"Enter your name player 1\")\n",
    "    p2name=input(\"p2name input\")\n",
    "    pp1=0\n",
    "    pp2=0\n",
    "    turn=0\n",
    "    while(1):\n",
    "        picked_word=choose()\n",
    "        #create the question\n",
    "        qn=jumble(picked_word)\n",
    "        print(qn)\n",
    "        #player1\n",
    "        if turn%2==0:\n",
    "            print(p1name,'Your turn. ')\n",
    "            ans=input('What i  on my mind ?')\n",
    "            if ans==picked_word:\n",
    "                pp1=pp1+1\n",
    "                print('player1 score is',pp1)\n",
    "            else:\n",
    "                print(\"your guess was wrong\",picked_word)\n",
    "            c=input('Press 1 to continue and 0 two quit')\n",
    "            if (c=='0'):\n",
    "                thank(p1name,p2name,pp1,pp2)\n",
    "                break\n",
    "        #player 2\n",
    "        else:\n",
    "            print(p2name,'Your turn. ')\n",
    "            ans=input('What i  on my mind ?')\n",
    "            if ans==picked_word:\n",
    "                pp2=pp2+1\n",
    "                print('player2 score is',pp2)\n",
    "            else:\n",
    "                print(\"your guess was wrong\",picked_word)\n",
    "            c=input('Press 1 to continue and 0 two quit')\n",
    "            if (c== '0'):\n",
    "                thank(p1name,p2name,pp1,pp2)\n",
    "                break\n",
    "        turn=turn+1\n",
    "            \n",
    "                \n",
    "\n",
    "play()"
   ]
  },
  {
   "cell_type": "code",
   "execution_count": null,
   "metadata": {},
   "outputs": [],
   "source": []
  }
 ],
 "metadata": {
  "kernelspec": {
   "display_name": "Python 3",
   "language": "python",
   "name": "python3"
  },
  "language_info": {
   "codemirror_mode": {
    "name": "ipython",
    "version": 3
   },
   "file_extension": ".py",
   "mimetype": "text/x-python",
   "name": "python",
   "nbconvert_exporter": "python",
   "pygments_lexer": "ipython3",
   "version": "3.7.1"
  }
 },
 "nbformat": 4,
 "nbformat_minor": 2
}
