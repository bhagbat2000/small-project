{
 "cells": [
  {
   "cell_type": "code",
   "execution_count": null,
   "metadata": {},
   "outputs": [
    {
     "name": "stdout",
     "output_type": "stream",
     "text": [
      "pygame 2.0.1 (SDL 2.0.14, Python 3.7.1)\n",
      "Hello from the pygame community. https://www.pygame.org/contribute.html\n",
      "01 Bilkul Socha Na - Ishq Forever (Rahat Fateh Ali Khan) 320Kbps.mp3\n",
      "01 Bilkul Socha Na - Ishq Forever (Rahat Fateh Ali Khan) 320Kbps.mp3\n",
      "01 Bilkul Socha Na - Ishq Forever (Rahat Fateh Ali Khan) 320Kbps.mp3\n"
     ]
    }
   ],
   "source": [
    "import pygame\n",
    "from pygame import mixer\n",
    "from tkinter import *\n",
    "import os\n",
    "def playsong():\n",
    "    currentsong=playlist.get(ACTIVE)\n",
    "    print(currentsong)\n",
    "    mixer.music.load(currentsong)\n",
    "    songstatus.set(\"Playing\")\n",
    "    mixer.music.play()\n",
    "def pausesong():\n",
    "    songstatus.set(\"Paused\")\n",
    "    mixer.music.pause()\n",
    "def stopsong():\n",
    "    songstatus.set(\"Stopped\")\n",
    "    mixer.music.stop()\n",
    "def resumesong():\n",
    "    songstatus.set(\"Resuming\")\n",
    "    mixer.music.unpause()    \n",
    "root=Tk()\n",
    "root.title(' Music player project')\n",
    "mixer.init()\n",
    "songstatus=StringVar()\n",
    "songstatus.set(\"choosing\")\n",
    "#playlist---------------\n",
    "playlist=Listbox(root,selectmode=SINGLE,bg=\"black\",fg=\"white\",font=('arial',15),width=40)\n",
    "playlist.grid(columnspan=5)\n",
    "os.chdir(r\"C:\\Users\\Bhagabat\\Desktop\\New folder\")\n",
    "songs=os.listdir()\n",
    "for s in songs:\n",
    "    playlist.insert(END,s)\n",
    "playbtn=Button(root,text=\"play\",command=playsong)\n",
    "playbtn.config(font=('arial',20),bg=\"lavender\",fg=\"deep sky blue\",padx=7,pady=7)\n",
    "playbtn.grid(row=1,column=0)\n",
    "pausebtn=Button(root,text=\"Pause\",command=pausesong)\n",
    "pausebtn.config(font=('arial',20),bg=\"DodgerBlue2\",fg=\"white\",padx=7,pady=7)\n",
    "pausebtn.grid(row=1,column=1)\n",
    "stopbtn=Button(root,text=\"Stop\",command=stopsong)\n",
    "stopbtn.config(font=('arial',20),bg=\"red\",fg=\"white\",padx=7,pady=7)\n",
    "stopbtn.grid(row=1,column=2)\n",
    "Resumebtn=Button(root,text=\"Resume\",command=resumesong)\n",
    "Resumebtn.config(font=('arial',20),bg=\"cyan3\",fg=\"white\",padx=7,pady=7)\n",
    "Resumebtn.grid(row=1,column=3)\n",
    "mainloop()"
   ]
  },
  {
   "cell_type": "code",
   "execution_count": null,
   "metadata": {},
   "outputs": [],
   "source": []
  }
 ],
 "metadata": {
  "kernelspec": {
   "display_name": "Python 3",
   "language": "python",
   "name": "python3"
  },
  "language_info": {
   "codemirror_mode": {
    "name": "ipython",
    "version": 3
   },
   "file_extension": ".py",
   "mimetype": "text/x-python",
   "name": "python",
   "nbconvert_exporter": "python",
   "pygments_lexer": "ipython3",
   "version": "3.7.1"
  }
 },
 "nbformat": 4,
 "nbformat_minor": 2
}
