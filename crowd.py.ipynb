{
 "cells": [
  {
   "cell_type": "code",
   "execution_count": 2,
   "metadata": {},
   "outputs": [
    {
     "data": {
      "text/plain": [
       "[<matplotlib.lines.Line2D at 0x2351499c390>]"
      ]
     },
     "execution_count": 2,
     "metadata": {},
     "output_type": "execute_result"
    },
    {
     "data": {
      "image/png": "[encoded data removed]",
      "text/plain": [
       "<Figure size 432x288 with 1 Axes>"
      ]
     },
     "metadata": {
      "needs_background": "light"
     },
     "output_type": "display_data"
    }
   ],
   "source": [
    "import matplotlib.pyplot as plt\n",
    "\n",
    "\n",
    "\n",
    "\n",
    "from statistics import mean\n",
    "from scipy import stats\n",
    "Estimates = [100,108,109,110,130,140,176,188,199,45,465,787,898,654,777,345]\n",
    "Estimates.sort()\n",
    "m = stats.trim_mean(Estimates,0.1) \n",
    "\n",
    "\n",
    "plt.plot(Estimates)\n",
    "##print(m)\n",
    "#tv=int(0.1*len(Estimates))\n",
    "#Estimates=Estimates[tv:]\n",
    "#Estimates=Estimates[:len(Estimates)-tv]\n",
    "#print(mean(Estimates))\n",
    "\n",
    "\n",
    "###########################################33\n",
    "import matplotlib.pyplot as plt\n",
    "import statistics\n",
    "Estimates = [100,108,109,110,130,140,176,188,199,45,465,787,898,654,777,345]\n",
    "y=[]\n",
    "\n",
    "Estimates.sort()\n",
    "tv=int(0.1*(len(Estimates)))\n",
    "Estimates= Estimates[tv:]\n",
    "\n",
    "Estimates=Estimates[:len(Estimates)-tv]\n",
    "for i in range(len(Estimates)):\n",
    "    y.append(5)\n",
    "plt.plot(Estimates,y,'r--')\n",
    "plt.plot([statistics.mean(Estimates)],[5],'ro')\n",
    "plt.plot([statistics.median(Estimates)],[5],'bs')\n",
    "plt.plot([375],[5],'g^')\n",
    "\n"
   ]
  },
  {
   "cell_type": "code",
   "execution_count": null,
   "metadata": {},
   "outputs": [],
   "source": []
  }
 ],
 "metadata": {
  "kernelspec": {
   "display_name": "Python 3",
   "language": "python",
   "name": "python3"
  },
  "language_info": {
   "codemirror_mode": {
    "name": "ipython",
    "version": 3
   },
   "file_extension": ".py",
   "mimetype": "text/x-python",
   "name": "python",
   "nbconvert_exporter": "python",
   "pygments_lexer": "ipython3",
   "version": "3.7.1"
  }
 },
 "nbformat": 4,
 "nbformat_minor": 2
}
