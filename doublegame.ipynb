{
 "cells": [
  {
   "cell_type": "code",
   "execution_count": 1,
   "metadata": {},
   "outputs": [
    {
     "name": "stdout",
     "output_type": "stream",
     "text": [
      "0\n",
      "1\n",
      "['u', 'I', 'a', 'X', 'J']\n",
      "['L', 'u', 'T', 'e', 'f']\n",
      "spot the similar symbolu\n",
      "right\n"
     ]
    }
   ],
   "source": [
    "\"\"\"\n",
    "Created on Mon Mar 30 15:09:39 2020\n",
    "\n",
    "@author: Bhagabat\n",
    "\"\"\"\n",
    "\n",
    "import string\n",
    "import random\n",
    "symbols=[]\n",
    "symbols=list(string.ascii_letters)\n",
    "card1=[0]*5\n",
    "card2=[0]*5\n",
    "pos1=random.randint(0,4)\n",
    "pos2=random.randint(0,4)\n",
    "print(pos1)\n",
    "print(pos2)\n",
    "samesymbol=random.choice(symbols)\n",
    "symbols.remove(samesymbol)\n",
    "if(pos1==pos2):\n",
    "    card2[pos1]=samesymbol\n",
    "    card1[pos1]=samesymbol\n",
    "    \n",
    "else:\n",
    "    card1[pos1]=samesymbol\n",
    "    card2[pos2]=samesymbol\n",
    "    card1[pos2]=random.choice(symbols)\n",
    "    symbols.remove(card1[pos2])\n",
    "    card2[pos1]=random.choice(symbols)\n",
    "    symbols.remove(card2[pos1])\n",
    "i=0\n",
    "while(i<5):\n",
    "    if(i!=pos1 and i!=pos2):\n",
    "        alphabet1=random.choice(symbols)\n",
    "        symbols.remove(alphabet1)\n",
    "        alphabet2=random.choice(symbols)\n",
    "        symbols.remove(alphabet2)\n",
    "        card1[i]=alphabet1\n",
    "        card2[i]=alphabet2\n",
    "    i=i+1\n",
    "print(card1) \n",
    "print(card2)  \n",
    "ch=input(\"spot the similar symbol\")\n",
    "if(ch==samesymbol):\n",
    "    print(\"right\")\n",
    "else:\n",
    "    print(\"wrong\")\n",
    "    "
   ]
  },
  {
   "cell_type": "code",
   "execution_count": null,
   "metadata": {},
   "outputs": [],
   "source": []
  }
 ],
 "metadata": {
  "kernelspec": {
   "display_name": "Python 3",
   "language": "python",
   "name": "python3"
  },
  "language_info": {
   "codemirror_mode": {
    "name": "ipython",
    "version": 3
   },
   "file_extension": ".py",
   "mimetype": "text/x-python",
   "name": "python",
   "nbconvert_exporter": "python",
   "pygments_lexer": "ipython3",
   "version": "3.7.1"
  }
 },
 "nbformat": 4,
 "nbformat_minor": 2
}
