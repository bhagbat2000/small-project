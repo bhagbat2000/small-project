{
 "cells": [
  {
   "cell_type": "code",
   "execution_count": 2,
   "metadata": {},
   "outputs": [
    {
     "name": "stdout",
     "output_type": "stream",
     "text": [
      "{'a': 'Z', 'b': 'a', 'c': 'b', 'd': 'c', 'e': 'd', 'f': 'e', 'g': 'f', 'h': 'g', 'i': 'h', 'j': 'i', 'k': 'j', 'l': 'k', 'm': 'l', 'n': 'm', 'o': 'n', 'p': 'o', 'q': 'p', 'r': 'q', 's': 'r', 't': 's', 'u': 't', 'v': 'u', 'w': 'v', 'x': 'w', 'y': 'x', 'z': 'y', 'A': 'z', 'B': 'A', 'C': 'B', 'D': 'C', 'E': 'D', 'F': 'E', 'G': 'F', 'H': 'G', 'I': 'H', 'J': 'I', 'K': 'J', 'L': 'K', 'M': 'L', 'N': 'M', 'O': 'N', 'P': 'O', 'Q': 'P', 'R': 'Q', 'S': 'R', 'T': 'S', 'U': 'T', 'V': 'U', 'W': 'V', 'X': 'W', 'Y': 'X', 'Z': 'Y'}\n",
      "data:law of fact.\n",
      "data pre procesing:it is required for null output.\n",
      "\t1.rescaleing data:[0,1]-min-max normalisation\n",
      "\t\t\t[-1,1]-mean normalisation\n",
      "\t\t\tx=[x-min(x)]/[max(x)-min(x)]{for min max}\n",
      "\t\t\tx'=[x-avg(x)]/(max(x)-min(x)){for mean normalization}\n",
      "\t2.standard diviation:stanadarddeviation=(1/nsumation(x-x')^2).\n",
      "\t3.describe keyword is used as deascribe().\n",
      "\t4.shape of dataset:\n",
      "\tfillna:used to alert mean value to a null place.\n",
      "\t\t\t \n",
      "End of file\n"
     ]
    }
   ],
   "source": [
    "import string\n",
    "dict={}\n",
    "for i in range(len(string.ascii_letters)):\n",
    "    dict[string.ascii_letters[i]]=string.ascii_letters[i-1]\n",
    "print(dict)\n",
    "with open(\"notes ml class.txt\") as f:\n",
    "    while True:\n",
    "        c=f.read()\n",
    "        if not c:\n",
    "            print(\"End of file\")\n",
    "            break\n",
    "        if c in dict:\n",
    "            data=dict[c]\n",
    "        else:\n",
    "            data=c\n",
    "            \n",
    "        print(data)"
   ]
  },
  {
   "cell_type": "code",
   "execution_count": null,
   "metadata": {},
   "outputs": [],
   "source": []
  }
 ],
 "metadata": {
  "kernelspec": {
   "display_name": "Python 3",
   "language": "python",
   "name": "python3"
  },
  "language_info": {
   "codemirror_mode": {
    "name": "ipython",
    "version": 3
   },
   "file_extension": ".py",
   "mimetype": "text/x-python",
   "name": "python",
   "nbconvert_exporter": "python",
   "pygments_lexer": "ipython3",
   "version": "3.7.1"
  }
 },
 "nbformat": 4,
 "nbformat_minor": 2
}
