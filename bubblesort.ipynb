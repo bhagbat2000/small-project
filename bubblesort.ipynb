{
 "cells": [
  {
   "cell_type": "code",
   "execution_count": 3,
   "metadata": {},
   "outputs": [
    {
     "name": "stdout",
     "output_type": "stream",
     "text": [
      "enter thee size of array3\n",
      "enter array elemets2\n",
      "enter array elemets2\n",
      "enter array elemets3\n",
      "2\n",
      "2\n",
      "3\n"
     ]
    }
   ],
   "source": [
    "# -*- coding: utf-8 -*-\n",
    "\"\"\"\n",
    "Created on Sat Apr  4 15:54:05 2020\n",
    "\n",
    "@author: Bhagabat\n",
    "\"\"\"\n",
    "\n",
    "a= []\n",
    "n=int(input(\"enter thee size of array\"))\n",
    "for j in range(n):\n",
    "    ele = int(input(\"enter array elemets\"))\n",
    "    a.append(ele)\n",
    "def bubble(a):\n",
    "    for i in range(n):\n",
    "        for j in range(0,n-i-1):\n",
    "            if(a[j]>a[j+1]):\n",
    "                temp =a[j]\n",
    "                a[j] = a[j+1]\n",
    "                a[j+1]=temp\n",
    "bubble(a)\n",
    "for i in a:\n",
    "    print(i)"
   ]
  },
  {
   "cell_type": "code",
   "execution_count": null,
   "metadata": {},
   "outputs": [],
   "source": []
  },
  {
   "cell_type": "code",
   "execution_count": null,
   "metadata": {},
   "outputs": [],
   "source": []
  }
 ],
 "metadata": {
  "kernelspec": {
   "display_name": "Python 3",
   "language": "python",
   "name": "python3"
  },
  "language_info": {
   "codemirror_mode": {
    "name": "ipython",
    "version": 3
   },
   "file_extension": ".py",
   "mimetype": "text/x-python",
   "name": "python",
   "nbconvert_exporter": "python",
   "pygments_lexer": "ipython3",
   "version": "3.7.1"
  }
 },
 "nbformat": 4,
 "nbformat_minor": 2
}
