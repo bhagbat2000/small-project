{
 "cells": [
  {
   "cell_type": "code",
   "execution_count": 3,
   "metadata": {},
   "outputs": [
    {
     "data": {
      "text/plain": [
       "True"
      ]
     },
     "execution_count": 3,
     "metadata": {},
     "output_type": "execute_result"
    }
   ],
   "source": [
    "import requests \n",
    "from bs4 import BeautifulSoup \n",
    "from win10toast import ToastNotifier \n",
    "\n",
    "# create an object to ToastNotifier class \n",
    "n = ToastNotifier() \n",
    "\n",
    "# define a function \n",
    "def getdata(url): \n",
    "\tr = requests.get(url) \n",
    "\treturn r.text \n",
    "\t\n",
    "htmldata = getdata(\"https://weather.com/en-IN/weather/today/l/25.59,85.14?par=google&temp=c/\") \n",
    "\n",
    "soup = BeautifulSoup(htmldata, 'html.parser') \n",
    "\n",
    "current_temp = soup.find_all(\"span\", class_= \"_-_-components-src-organism-CurrentConditions-CurrentConditions--tempValue--MHmYY\") \n",
    "\n",
    "chances_rain = soup.find_all(\"div\", class_= \"_-_-components-src-organism-CurrentConditions-CurrentConditions--precipValue--2aJSf\") \n",
    "\n",
    "temp = (str(current_temp)) \n",
    "\n",
    "temp_rain = str(chances_rain) \n",
    "\n",
    "result = \"current_temp \" + temp[128:-9] + \" in patna bihar\" + \"\\n\" + temp_rain[131:-14] \n",
    "n.show_toast(\"live Weather update\", \n",
    "\t\t\tresult, duration = 10) "
   ]
  },
  {
   "cell_type": "code",
   "execution_count": null,
   "metadata": {},
   "outputs": [],
   "source": []
  }
 ],
 "metadata": {
  "kernelspec": {
   "display_name": "Python 3",
   "language": "python",
   "name": "python3"
  },
  "language_info": {
   "codemirror_mode": {
    "name": "ipython",
    "version": 3
   },
   "file_extension": ".py",
   "mimetype": "text/x-python",
   "name": "python",
   "nbconvert_exporter": "python",
   "pygments_lexer": "ipython3",
   "version": "3.7.1"
  }
 },
 "nbformat": 4,
 "nbformat_minor": 2
}
