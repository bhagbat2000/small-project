{
 "cells": [
  {
   "cell_type": "code",
   "execution_count": 2,
   "metadata": {},
   "outputs": [
    {
     "name": "stdout",
     "output_type": "stream",
     "text": [
      "Making test #1\n",
      "Making test #2\n",
      "Making test #3\n",
      "Making test #1\n",
      "Making test #2\n",
      "Making test #3\n",
      "Test #1\n",
      "\n",
      "Download: 104511.96 Kb/s\n",
      "\n",
      "Upload: 28435.45 Kb/s\n",
      "\n",
      "Ping: 108.706\n",
      "\n",
      "Test #2\n",
      "\n",
      "Download: 17855.89 Kb/s\n",
      "\n",
      "Upload: 18768.80 Kb/s\n",
      "\n",
      "Ping: 105.928\n",
      "\n",
      "Test #3\n",
      "\n",
      "Download: 103757.39 Kb/s\n",
      "\n",
      "Upload: 28210.00 Kb/s\n",
      "\n",
      "Ping: 111.615\n",
      "\n"
     ]
    }
   ],
   "source": [
    "import speedtest\n",
    "\n",
    "\n",
    "def test():\n",
    "    s = speedtest.Speedtest()\n",
    "    s.get_servers()\n",
    "    s.get_best_server()\n",
    "    s.download()\n",
    "    s.upload()\n",
    "    res = s.results.dict()\n",
    "    return res[\"download\"], res[\"upload\"], res[\"ping\"]\n",
    "\n",
    "\n",
    "def main():\n",
    "    # write to csv\n",
    "    with open('file.csv', 'w') as f:\n",
    "        f.write('download,upload,ping\\n')\n",
    "        for i in range(3):\n",
    "            print('Making test #{}'.format(i+1))\n",
    "            d, u, p = test()\n",
    "            f.write('{},{},{}\\n'.format(d, u, p))\n",
    "    # pretty write to txt file\n",
    "    with open('file.txt', 'w') as f:\n",
    "        for i in range(3):\n",
    "            print('Making test #{}'.format(i+1))\n",
    "            d, u, p = test()\n",
    "            f.write('Test #{}\\n'.format(i+1))\n",
    "            f.write('Download: {:.2f} Kb/s\\n'.format(d / 1024))\n",
    "            f.write('Upload: {:.2f} Kb/s\\n'.format(u / 1024))\n",
    "            f.write('Ping: {}\\n'.format(p))\n",
    "    # simply print in needed format if you want to use pipe-style: python script.py > file\n",
    "    for i in range(3):\n",
    "        d, u, p = test()\n",
    "        print('Test #{}\\n'.format(i+1))\n",
    "        print('Download: {:.2f} Kb/s\\n'.format(d / 1024))\n",
    "        print('Upload: {:.2f} Kb/s\\n'.format(u / 1024))\n",
    "        print('Ping: {}\\n'.format(p))\n",
    "\n",
    "\n",
    "if __name__ == '__main__':\n",
    "    main()"
   ]
  },
  {
   "cell_type": "code",
   "execution_count": null,
   "metadata": {},
   "outputs": [],
   "source": []
  }
 ],
 "metadata": {
  "kernelspec": {
   "display_name": "Python 3",
   "language": "python",
   "name": "python3"
  },
  "language_info": {
   "codemirror_mode": {
    "name": "ipython",
    "version": 3
   },
   "file_extension": ".py",
   "mimetype": "text/x-python",
   "name": "python",
   "nbconvert_exporter": "python",
   "pygments_lexer": "ipython3",
   "version": "3.7.1"
  }
 },
 "nbformat": 4,
 "nbformat_minor": 2
}
