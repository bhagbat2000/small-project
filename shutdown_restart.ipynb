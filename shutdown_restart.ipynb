{
 "cells": [
  {
   "cell_type": "code",
   "execution_count": null,
   "metadata": {},
   "outputs": [],
   "source": [
    "from tkinter import *\n",
    "import os\n",
    "def shutdown():\n",
    "    return os.system(\"shutdown /s /t 1\")\n",
    "def restart():\n",
    "    return os.system(\"shutdown /r / 1\")\n",
    "def logout():\n",
    "    return os.system(\"shutdown -l\")\n",
    "\n",
    "master =Tk()\n",
    "master.geometry(\"100*100\")\n",
    "\n",
    "master.configure(bg=\"light grey\")\n",
    "\n",
    "Button(master,text=\"shutdown\",command= shutdown).place(x=20,y=20)\n",
    "Button(master,text=\"shutdown\",command= shutdown).place(x=25,y=50)\n",
    "Button(master,text=\"shutdown\",command= shutdown).place(x=20,y=20)"
   ]
  }
 ],
 "metadata": {
  "kernelspec": {
   "display_name": "Python 3",
   "language": "python",
   "name": "python3"
  },
  "language_info": {
   "codemirror_mode": {
    "name": "ipython",
    "version": 3
   },
   "file_extension": ".py",
   "mimetype": "text/x-python",
   "name": "python",
   "nbconvert_exporter": "python",
   "pygments_lexer": "ipython3",
   "version": "3.7.1"
  }
 },
 "nbformat": 4,
 "nbformat_minor": 2
}
