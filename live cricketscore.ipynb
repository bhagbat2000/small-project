{
 "cells": [
  {
   "cell_type": "code",
   "execution_count": 11,
   "metadata": {},
   "outputs": [],
   "source": [
    "import tkinter as tk\n",
    "from PIL import ImageTk, Image\n",
    "import os\n",
    "from bs4 import BeautifulSoup\n",
    "import urllib.request\n",
    "score_page = 'http://static.cricinfo.com/rss/livescores.xml'    \n",
    "page = urllib.request.urlopen(score_page)\n",
    "soup = BeautifulSoup(page, 'html.parser')\n",
    "result = soup.find_all('description') \n",
    "\n",
    "ls=[]\n",
    "for match in result:\n",
    "    ls.append(match.get_text())\n",
    "\n",
    "def score():\n",
    "    T.insert(tk.END,ls)\n",
    "def clear():\n",
    "    T.delete(1.0,tk.END)\n",
    "root = tk.Toplevel()\n",
    "root.geometry('1200x675')\n",
    "img = ImageTk.PhotoImage(Image.open(\"Dhoni-Rohit.jpg\"))\n",
    "panel = tk.Label(root, image = img)\n",
    "panel.place(x=0,y=0)\n",
    "T=tk.Text(root)\n",
    "T.place(x=30,y=250,height=250,width=300)\n",
    "l=tk.Label(root,text=\"LIVE SCORE\",fg=\"white\",bg=\"black\")\n",
    "l.place(x=30,y=400,height=100,width=300)\n",
    "b1=tk.Button(root,text=\"Score\",bg=\"black\",fg=\"red\",command=score)\n",
    "b1.place(x=800,y=200,height=100,width=250)\n",
    "b2=tk.Button(root,text=\"Clear\",bg=\"black\",fg=\"red\",command=clear)\n",
    "b2.place(x=800,y=400,height=100,width=250)\n",
    "root.mainloop()"
   ]
  },
  {
   "cell_type": "code",
   "execution_count": null,
   "metadata": {},
   "outputs": [],
   "source": []
  }
 ],
 "metadata": {
  "kernelspec": {
   "display_name": "Python 3",
   "language": "python",
   "name": "python3"
  },
  "language_info": {
   "codemirror_mode": {
    "name": "ipython",
    "version": 3
   },
   "file_extension": ".py",
   "mimetype": "text/x-python",
   "name": "python",
   "nbconvert_exporter": "python",
   "pygments_lexer": "ipython3",
   "version": "3.7.1"
  }
 },
 "nbformat": 4,
 "nbformat_minor": 2
}
