{
 "cells": [
  {
   "cell_type": "code",
   "execution_count": 2,
   "metadata": {},
   "outputs": [
    {
     "name": "stdout",
     "output_type": "stream",
     "text": [
      "The Shawshank Redemption\n",
      "The Godfather\n",
      "The Godfather: Part II\n",
      "The Dark Knight\n",
      "12 Angry Men\n",
      "Schindler's List\n",
      "The Lord of the Rings: The Return of the King\n",
      "Pulp Fiction\n",
      "The Good, the Bad and the Ugly\n",
      "The Lord of the Rings: The Fellowship of the Ring\n"
     ]
    }
   ],
   "source": [
    "import imdb\n",
    "ia = imdb.IMDb()\n",
    "search = ia.get_top250_movies()\n",
    "for i in range(10):\n",
    "    print(search[i])"
   ]
  },
  {
   "cell_type": "code",
   "execution_count": 3,
   "metadata": {},
   "outputs": [
    {
     "name": "stdout",
     "output_type": "stream",
     "text": [
      "Lana Wachowski\n",
      "Lilly Wachowski\n",
      "['akas', 'animation department', 'art department', 'art directors', 'aspect ratio', 'assistant directors', 'box office', 'camera department', 'canonical title', 'cast', 'casting department', 'casting directors', 'certificates', 'cinematographers', 'color info', 'composers', 'costume departmen', 'costume designers', 'countries', 'country codes', 'cover url', 'director', 'directors', 'distributors', 'editorial department', 'editors', 'full-size cover url', 'genres', 'imdbID', 'kind', 'language codes', 'languages', 'localized title', 'location management', 'long imdb canonical title', 'long imdb title', 'make up department', 'miscellaneous', 'music department', 'original air date', 'other companies', 'plot', 'plot outline', 'producers', 'production companies', 'production designers', 'production managers', 'rating', 'runtimes', 'script department', 'set decorators', 'smart canonical title', 'smart long imdb canonical title', 'sound department', 'sound mix', 'special effects', 'special effects companies', 'stunts', 'synopsis', 'thanks', 'title', 'top 250 rank', 'transportation department', 'visual effects', 'votes', 'writer', 'writers', 'year']\n",
      "['airing', 'akas', 'alternate versions', 'awards', 'connections', 'crazy credits', 'critic reviews', 'episodes', 'external reviews', 'external sites', 'faqs', 'full credits', 'goofs', 'keywords', 'list', 'locations', 'main', 'misc sites', 'news', 'official sites', 'parents guide', 'photo sites', 'plot', 'quotes', 'recommendations', 'release dates', 'release info', 'reviews', 'sound clips', 'soundtrack', 'synopsis', 'taglines', 'technical', 'trivia', 'tv schedule', 'video clips', 'vote details']\n",
      "['tech']\n",
      "{'runtime': ['2 hr 16 min (136 min)'], 'sound mix': ['DTS (Digital DTS Sound)', 'Dolby Digital', 'SDDS', 'Dolby Atmos'], 'color': ['Color'], 'aspect ratio': ['2.39 : 1'], 'camera': ['Arriflex 435, Panavision Primo Lenses', 'Panavision Panaflex Platinum, Panavision Primo Lenses', 'Panavision Panastar, Panavision Primo Lenses', 'Photosonics Camera'], 'laboratory': ['Technicolor, Hollywood (CA), USA (prints)', 'Atlab Film Laboratory Service, Sydney, Australia (color)'], 'film length': ['(7 reels)', '3,735 m (Sweden)'], 'negative format': ['35 mm (also horizontal) (Kodak Vision 200T 5274, Vision 500T 5279, Vision 800T 5289)'], 'cinematographic process': ['Super 35', 'VistaVision (effects shots)'], 'printed film format': ['35 mm (anamorphic) (Kodak Vision 2383)']}\n"
     ]
    }
   ],
   "source": [
    "from imdb import IMDb\n",
    "\n",
    "# create an instance of the IMDb class\n",
    "ia = IMDb()\n",
    "\n",
    "# get a movie and print its director(s)\n",
    "the_matrix = ia.get_movie('0133093')\n",
    "for director in the_matrix['directors']:\n",
    "    print(director['name'])\n",
    "\n",
    "# show all information that are currently available for a movie\n",
    "print(sorted(the_matrix.keys()))\n",
    "\n",
    "# show all information sets that can be fetched for a movie\n",
    "print(ia.get_movie_infoset())\n",
    "\n",
    "# update a Movie object with more information\n",
    "ia.update(the_matrix, ['technical'])\n",
    "# show which keys were added by the information set\n",
    "print(the_matrix.infoset2keys['technical'])\n",
    "# print one of the new keys\n",
    "print(the_matrix.get('tech'))"
   ]
  },
  {
   "cell_type": "markdown",
   "metadata": {},
   "source": [
    "# Movie id"
   ]
  },
  {
   "cell_type": "code",
   "execution_count": 4,
   "metadata": {},
   "outputs": [
    {
     "name": "stdout",
     "output_type": "stream",
     "text": [
      "3 Idiots : 1187043\n",
      "3 idiotas : 3685624\n",
      "3 Idiots : 12049418\n",
      "3 Idiots w/ GUNS : 0222441\n",
      "3 Idiots on Wheels : 6689378\n",
      "3 Idiots; How Cho Copes with Slump : 9419952\n",
      "3 Idiots Try Candy! : 8474256\n",
      "3 Idiots : 14280524\n",
      "The Idiots : 0154421\n",
      "Idiots : 0341476\n",
      "Idiotest : 3607166\n",
      "Idiotsitter : 3532050\n",
      "The Idiot : 0043614\n",
      "Idiots : 1687235\n",
      "Our Idiot Brother : 1637706\n",
      "Vidiots : 5830890\n",
      "Idiot : 3054472\n",
      "4 Idiots : 6470848\n",
      "iDiots : 6817860\n",
      "Idiot : 0366028\n"
     ]
    }
   ],
   "source": [
    "import imdb\n",
    "   \n",
    "# creating instance of IMDb\n",
    "ia = imdb.IMDb()\n",
    "   \n",
    "# name \n",
    "name = \"3 Idiots\"\n",
    "   \n",
    "# searching the name \n",
    "search = ia.search_movie(name)\n",
    "  \n",
    "  \n",
    "# loop for printing the name and id\n",
    "for i in range(len(search)):\n",
    "      \n",
    "    # getting the id\n",
    "    id = search[i].movieID\n",
    "      \n",
    "    # printing it\n",
    "    print(search[i]['title'] + \" : \" + id )"
   ]
  },
  {
   "cell_type": "code",
   "execution_count": null,
   "metadata": {},
   "outputs": [],
   "source": []
  }
 ],
 "metadata": {
  "kernelspec": {
   "display_name": "Python 3",
   "language": "python",
   "name": "python3"
  },
  "language_info": {
   "codemirror_mode": {
    "name": "ipython",
    "version": 3
   },
   "file_extension": ".py",
   "mimetype": "text/x-python",
   "name": "python",
   "nbconvert_exporter": "python",
   "pygments_lexer": "ipython3",
   "version": "3.7.1"
  }
 },
 "nbformat": 4,
 "nbformat_minor": 2
}
