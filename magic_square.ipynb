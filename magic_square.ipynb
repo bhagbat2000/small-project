{
 "cells": [
  {
   "cell_type": "code",
   "execution_count": 1,
   "metadata": {},
   "outputs": [
    {
     "name": "stdout",
     "output_type": "stream",
     "text": [
      "20 12 4 45 37 29 28 \n",
      "11 3 44 36 35 27 19 \n",
      "2 43 42 34 26 18 10 \n",
      "49 41 33 25 17 9 1 \n",
      "40 32 24 16 8 7 48 \n",
      "31 23 15 14 6 47 39 \n",
      "22 21 13 5 46 38 30 \n"
     ]
    }
   ],
   "source": [
    "def magic_square(n):\n",
    "    \n",
    "    magicSquare = []\n",
    "    for i in range(n):\n",
    "        l = []\n",
    "        for j in range(n):\n",
    "            l.append(0)\n",
    "        magicSquare.append(l)\n",
    "        \n",
    "    i = n//2\n",
    "    j = n-1\n",
    "    \n",
    "    num = n*n\n",
    "    count = 1\n",
    "    \n",
    "    while(count<=num):\n",
    "        if(i==-1 and j==n): #CONDN 3\n",
    "            j = n-2\n",
    "            i = 0\n",
    "        else:\n",
    "            if(j==n): #column length exiding\n",
    "                j = 0\n",
    "            if(i<0):# row is becoming -1\n",
    "                i= n-1\n",
    "        if(magicSquare[i][j]!=0):\n",
    "        \n",
    "            j = j-2\n",
    "            i = i+1\n",
    "            continue\n",
    "        else:\n",
    "            magicSquare[i][j] = count\n",
    "            count+=1\n",
    "            \n",
    "        i = i-1\n",
    "        j = j+1\n",
    "        \n",
    "        \n",
    "    for i in range(n):\n",
    "        for j in range(n):\n",
    "            print(magicSquare[i][j],end=\" \")\n",
    "        print()\n",
    "magic_square(7)            "
   ]
  },
  {
   "cell_type": "code",
   "execution_count": null,
   "metadata": {},
   "outputs": [],
   "source": []
  }
 ],
 "metadata": {
  "kernelspec": {
   "display_name": "Python 3",
   "language": "python",
   "name": "python3"
  },
  "language_info": {
   "codemirror_mode": {
    "name": "ipython",
    "version": 3
   },
   "file_extension": ".py",
   "mimetype": "text/x-python",
   "name": "python",
   "nbconvert_exporter": "python",
   "pygments_lexer": "ipython3",
   "version": "3.7.1"
  }
 },
 "nbformat": 4,
 "nbformat_minor": 2
}
