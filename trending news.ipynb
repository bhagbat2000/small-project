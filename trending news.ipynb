{
 "cells": [
  {
   "cell_type": "code",
   "execution_count": 5,
   "metadata": {},
   "outputs": [
    {
     "name": "stdout",
     "output_type": "stream",
     "text": [
      "--------------------------------------------------\n",
      "Tittle-- Josh Taylor targets fight with USA superstar Terence Crawford\n",
      "Date/Time--  7 mins ago\n",
      "Description-- Josh Taylor says he wants a fight with American Terence Crawford next after he defeated Jose Ramirez to unify the light-welterweight division. The Scot knocked ...\n",
      "link-- https://www.bbc.co.uk/sport/boxing/57216405\n",
      "--------------------------------------------------\n",
      "Tittle-- TO RUSSIA, WITH LOVE: USA clinch a spot at Beach Soccer ...\n",
      "Date/Time--  1 hour ago\n",
      "Description-- That would be an opportunity to reach the FIFA Beach Soccer World Cup as the United States made no doubt about it with a 5-2 semifinal victory over Mexico in ...\n",
      "link-- https://www.frontrowsoccer.com/2021/05/22/to-russia-with-love-usa-clinch-a-spot-at-beach-soccer-world-cup/\n",
      "--------------------------------------------------\n",
      "Tittle-- LA Kings' Cal Petersen: USA Opening Loss Was a \"Great Test ...\n",
      "Date/Time--  1 hour ago\n",
      "Description-- LA Kings netminder Cal Petersen speaks about Team USA's opener at the 2021 World Championship: a 2-1 loss to Finland. They now prepare for Canada.\n",
      "link-- https://rinkroyalty.com/2021/05/22/la-kings-cal-petersen-usa-loss/\n",
      "--------------------------------------------------\n",
      "Tittle-- SEC, Conference USA baseball tournament schedules - The ...\n",
      "Date/Time--  1 hour ago\n",
      "Description-- SEC, Conference USA baseball tournament schedules · SEC Tournament schedule. At Hoover, Ala. All games televised on SEC Network unless noted · Tuesday, ...\n",
      "link-- https://www.vicksburgpost.com/2021/05/22/sec-conference-usa-baseball-tournament-schedules-2/\n",
      "--------------------------------------------------\n",
      "Tittle-- Small 3.2 quake hits near McAlester, Pittsburg County ...\n",
      "Date/Time--  3 hours ago\n",
      "Description-- Small 3.2 quake hits near McAlester, Pittsburg County, Oklahoma, USA ... The event was filed by the United States Geological Survey, the first seismological ...\n",
      "link-- https://www.volcanodiscovery.com/earthquake/news/130792/Small-32-quake-hits-near-McAlester-Pittsburg-County-Oklahoma-USA.html\n",
      "--------------------------------------------------\n",
      "Tittle-- Arman, Sass, Buckingham, Hickey Earn Overall Titles on Day ...\n",
      "Date/Time--  5 hours ago\n",
      "Description-- The USA Triathlon Duathlon National Championships got off to a thrilling start ... run-bike-run event drew athletes ages 14-85 from across the United States to ...\n",
      "link-- https://www.teamusa.org/USA-Triathlon/News/Articles-and-Releases/2021/May/22/Arman-Sass-Buckingham-Hickey-Earn-Overall-Titles-on-Day-One-at-Duathlon-Nationals\n",
      "--------------------------------------------------\n",
      "Tittle-- 2021 IIHF Men's World Championships: USA Loses to Finland\n",
      "Date/Time--  6 hours ago\n",
      "Description-- Finland 2, United States 1. Finland goals: Atte Ohtamaa, Iiro Pakarinen. United States goal: Jason Robertson. Tage Thompson was credited with five shots on goal.\n",
      "link-- https://www.diebytheblade.com/2021/5/22/22449003/2021-iihf-mens-world-championships-usa-loses-to-finland-buffalo-sabres-nhl-hockey\n",
      "--------------------------------------------------\n",
      "Tittle-- BHS basketballer Castillo eyes USA Basketball camp\n",
      "Date/Time--  7 hours ago\n",
      "Description-- But, the game against Argentina has been pushed back to August and the tryouts to late July. In lieu of that change, USA Basketball is planning two separate ...\n",
      "link-- https://www.examiner-enterprise.com/story/sports/high-school/2021/05/22/bhs-basketballer-castillo-eyes-usa-basketball-camp/5206273001/\n",
      "--------------------------------------------------\n",
      "Tittle-- Opinion: Loving the USA\n",
      "Date/Time--  7 hours ago\n",
      "Description-- Opinion: Loving the USA. I neglected to mention that Saturday last should have been my brother, Rocky Hill's, 72nd birthday. He has been gone almost an entire ...\n",
      "link-- http://www.maderatribune.com/single-post/opinion-loving-the-usa\n",
      "--------------------------------------------------\n",
      "Tittle-- Trinity Thomas closes chapter on her career with Team USA ...\n",
      "Date/Time--  8 hours ago\n",
      "Description-- Her four-year career with Team USA should be celebrated. Thomas achieved second place in the all-around to help the red, white and blue take home gold at the ...\n",
      "link-- https://gatorswire.usatoday.com/2021/05/22/trinity-thomas-retires-from-olympic-competition/\n"
     ]
    }
   ],
   "source": [
    "from GoogleNews import GoogleNews\n",
    "googlenews =GoogleNews()\n",
    "googlenews = GoogleNews(period = '7d')\n",
    "googlenews.search('USA')\n",
    "result =googlenews.result()\n",
    "for x in result:\n",
    "    print(\"-\"*50)\n",
    "    print(\"Tittle--\",x['title'])\n",
    "    print(\"Date/Time-- \",x['date'])\n",
    "    print(\"Description--\",x['desc'])\n",
    "    print(\"link--\",x['link'])"
   ]
  },
  {
   "cell_type": "code",
   "execution_count": null,
   "metadata": {},
   "outputs": [],
   "source": []
  }
 ],
 "metadata": {
  "kernelspec": {
   "display_name": "Python 3",
   "language": "python",
   "name": "python3"
  },
  "language_info": {
   "codemirror_mode": {
    "name": "ipython",
    "version": 3
   },
   "file_extension": ".py",
   "mimetype": "text/x-python",
   "name": "python",
   "nbconvert_exporter": "python",
   "pygments_lexer": "ipython3",
   "version": "3.7.1"
  }
 },
 "nbformat": 4,
 "nbformat_minor": 2
}
